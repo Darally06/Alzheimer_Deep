{
 "cells": [
  {
   "cell_type": "markdown",
   "id": "8fd55b87",
   "metadata": {},
   "source": [
    "# **Modelos 3D para imágenes**"
   ]
  },
  {
   "cell_type": "code",
   "execution_count": 41,
   "id": "1552a49a",
   "metadata": {},
   "outputs": [],
   "source": [
    "# [Config] Librerías\n",
    "import os, torch\n",
    "from torch.utils.data import Dataset\n",
    "from sklearn.model_selection import GroupShuffleSplit\n",
    "import numpy as np\n",
    "import pandas as pd\n",
    "from pathlib import Path\n",
    "from statsmodels.stats.proportion import proportions_ztest\n",
    "from sklearn.model_selection import StratifiedGroupKFold\n",
    "from sklearn.model_selection import StratifiedShuffleSplit\n",
    "from torch.utils.data import Dataset, DataLoader\n",
    "import torch\n"
   ]
  },
  {
   "cell_type": "code",
   "execution_count": 42,
   "id": "77885a5c",
   "metadata": {},
   "outputs": [],
   "source": [
    "# [Rutas]\n",
    "OUT_DIR = Path(r\"C:\\Users\\Hp\\MACHINE\\MRI\\datos\\procesadas\")\n",
    "df = pd.read_csv(r\"C:\\Users\\Hp\\MACHINE\\MRI\\notebooks\\Data\\atributos.csv\")"
   ]
  },
  {
   "cell_type": "markdown",
   "id": "387c040c",
   "metadata": {},
   "source": [
    "_____________"
   ]
  },
  {
   "cell_type": "markdown",
   "id": "a5926afa",
   "metadata": {},
   "source": [
    "## Preprocesamiento"
   ]
  },
  {
   "cell_type": "code",
   "execution_count": 43,
   "id": "1f8cb154",
   "metadata": {},
   "outputs": [
    {
     "name": "stdout",
     "output_type": "stream",
     "text": [
      "\n",
      "Nulos por columna principal:\n",
      "                   0\n",
      "is_dementia       28\n",
      "label_progresion   0\n"
     ]
    }
   ],
   "source": [
    "# [] Valores nulos columnas principales\n",
    "print(\"\\nNulos por columna principal:\")\n",
    "print(df[[\"is_dementia\", \"label_progresion\"]].isna().sum().to_frame())"
   ]
  },
  {
   "cell_type": "markdown",
   "id": "b52950d4",
   "metadata": {},
   "source": [
    "Los valores nulos están asociados a la visita del mes 30 de x sujetos (ver EDA). Estos valores no serán imputados para los primeros 3 modelos a probar."
   ]
  },
  {
   "cell_type": "code",
   "execution_count": 44,
   "id": "17bc08ce",
   "metadata": {},
   "outputs": [
    {
     "name": "stdout",
     "output_type": "stream",
     "text": [
      "\n",
      " Distribución de la variable objetivo:\n",
      "                  proportion\n",
      "label_progresion            \n",
      "0                      54.84\n",
      "1                      45.16\n",
      "\n",
      "Prueba Z-test: Z = -2.29, p-value = 0.0223\n"
     ]
    },
    {
     "data": {
      "image/png": "[encoded data removed]",
      "text/plain": [
       "<Figure size 640x480 with 1 Axes>"
      ]
     },
     "metadata": {},
     "output_type": "display_data"
    }
   ],
   "source": [
    "# [] Balance de clases\n",
    "print(\"\\n Distribución de la variable objetivo:\")\n",
    "print(df[\"label_progresion\"].value_counts(normalize=True).mul(100).round(2).to_frame())\n",
    "df[\"label_progresion\"].value_counts().plot(kind=\"bar\", title=\"Distribución de progresión\")\n",
    "\n",
    "# [Test] Z-test para comparar proporciones\n",
    "counts = [df[\"label_progresion\"].value_counts()[1],\n",
    "          df[\"label_progresion\"].value_counts()[0]]\n",
    "nobs = [sum(counts), sum(counts)]\n",
    "stat, pval = proportions_ztest(counts, nobs)\n",
    "print(f\"\\nPrueba Z-test: Z = {stat:.2f}, p-value = {pval:.4f}\")\n"
   ]
  },
  {
   "cell_type": "markdown",
   "id": "a3ccd771",
   "metadata": {},
   "source": [
    "Las clases de la variable objetivo están significativamente desbalanceadas. Se aplicará en cada modelo ponderación de clases, para no realizar replicación de imágenes que cambien la distribución real. La clase mayoritaria es que no hubo progresión de la enfermedad."
   ]
  },
  {
   "cell_type": "code",
   "execution_count": 45,
   "id": "d983fcd0",
   "metadata": {},
   "outputs": [
    {
     "name": "stdout",
     "output_type": "stream",
     "text": [
      "Train:\n",
      "  Label 0: 89 imágenes (53.94%)\n",
      "  Label 1: 76 imágenes (46.06%)\n",
      "Pacientes únicos: 30\n",
      "Total de imágenes: 165\n",
      "\n",
      "Valid:\n",
      "  Label 0: 37 imágenes (59.68%)\n",
      "  Label 1: 25 imágenes (40.32%)\n",
      "Pacientes únicos: 10\n",
      "Total de imágenes: 62\n",
      "\n",
      "Test:\n",
      "  Label 0: 27 imágenes (51.92%)\n",
      "  Label 1: 25 imágenes (48.08%)\n",
      "Pacientes únicos: 11\n",
      "Total de imágenes: 52\n",
      "\n"
     ]
    }
   ],
   "source": [
    "\n",
    "# Supongamos que df tiene una fila por imagen\n",
    "# y las columnas: ['sujeto_id', 'label_progresion', ...]\n",
    "\n",
    "# 1️⃣ Crear dataset único a nivel de sujeto (una fila por paciente)\n",
    "df_subjects = df.groupby('sujeto_id')['label_progresion'].first().reset_index()\n",
    "\n",
    "X = df_subjects[['sujeto_id']]\n",
    "y = df_subjects['label_progresion']\n",
    "\n",
    "\n",
    "# 2️⃣ Primera división: 80% trainval / 20% test (estratificada por sujeto)\n",
    "sss1 = StratifiedShuffleSplit(n_splits=1, test_size=0.2, random_state=42)\n",
    "trainval_idx, test_idx = next(sss1.split(X, y))\n",
    "\n",
    "trainval_subjects = X.iloc[trainval_idx]['sujeto_id']\n",
    "test_subjects = X.iloc[test_idx]['sujeto_id']\n",
    "\n",
    "# 3️⃣ Segunda división sobre trainval: 75/25 → 60/20 total\n",
    "sss2 = StratifiedShuffleSplit(n_splits=1, test_size=0.25, random_state=24)\n",
    "X_trainval = X.iloc[trainval_idx]\n",
    "y_trainval = y.iloc[trainval_idx]\n",
    "train_idx, val_idx = next(sss2.split(X_trainval, y_trainval))\n",
    "\n",
    "train_subjects = X_trainval.iloc[train_idx]['sujeto_id']\n",
    "val_subjects = X_trainval.iloc[val_idx]['sujeto_id']\n",
    "\n",
    "# 4️⃣ Asignar imágenes correspondientes en el df original\n",
    "X_train = df[df['sujeto_id'].isin(train_subjects)]\n",
    "X_val = df[df['sujeto_id'].isin(val_subjects)]\n",
    "X_test = df[df['sujeto_id'].isin(test_subjects)]\n",
    "\n",
    "# 5️⃣ Asignar etiquetas (una por fila de imagen)\n",
    "y_train = X_train['label_progresion'].values\n",
    "y_val = X_val['label_progresion'].values\n",
    "y_test = X_test['label_progresion'].values\n",
    "\n",
    "# 5️⃣ Verificar proporciones\n",
    "def resumen_split(df_split, name):\n",
    "    print(f\"{name}:\")\n",
    "   # Conteo absoluto de imágenes por clase\n",
    "    counts = df_split['label_progresion'].value_counts()\n",
    "    proportions = df_split['label_progresion'].value_counts(normalize=True) * 100\n",
    "    for label in sorted(counts.index):\n",
    "        print(f\"  Label {label}: {counts[label]} imágenes ({proportions[label]:.2f}%)\")\n",
    "    print(\"Pacientes únicos:\", df_split['sujeto_id'].nunique())\n",
    "    print(\"Total de imágenes:\", len(df_split))\n",
    "    print()\n",
    "\n",
    "resumen_split(X_train, \"Train\")\n",
    "resumen_split(X_val, \"Valid\")\n",
    "resumen_split(X_test, \"Test\")\n",
    "\n",
    "\n",
    "splits_dir = OUT_DIR / \"splits\"\n",
    "splits_dir.mkdir(exist_ok=True)\n",
    "\n",
    "X_train.to_csv(splits_dir / \"train.csv\", index=False)\n",
    "X_val.to_csv(splits_dir / \"val.csv\", index=False)\n",
    "X_test.to_csv(splits_dir / \"test.csv\", index=False)\n",
    "\n"
   ]
  },
  {
   "cell_type": "markdown",
   "id": "d076e3fb",
   "metadata": {},
   "source": [
    "Los conjuntos de entrenamiento, validación y prueba mantienen una distribución equilibrada entre las clases “progresión” y “no progresión”.\n",
    "En el conjunto de entrenamiento, el 46% de las imágenes corresponde a sujetos con progresión, mientras que en validación y prueba las proporciones son del 40% y 48%, respectivamente.\n",
    "Estas cifras reflejan una estratificación adecuada respecto al balance original del dataset (≈45% progresión)."
   ]
  },
  {
   "cell_type": "code",
   "execution_count": 46,
   "id": "d749c1d3",
   "metadata": {},
   "outputs": [
    {
     "name": "stdout",
     "output_type": "stream",
     "text": [
      "=== Dimensiones de los conjuntos ===\n",
      "X_train: (165, 27)   | y_train: (165,)\n",
      "X_val:   (62, 27)     | y_val:   (62,)\n",
      "X_test:  (52, 27)    | y_test:  (52,)\n",
      "\n",
      "=== Verificación de tipos ===\n",
      "X_train columnas: ['sujeto_id', 'id_visita', 'Fecha', 'VISCODE', 'vis_month', 'is_dementia', 'label_progresion', 'ruta_npy'] ...\n",
      "Etiquetas únicas en y_train: {0, 1}\n"
     ]
    }
   ],
   "source": [
    "# 🧭 Revisar dimensiones de cada conjunto\n",
    "print(\"=== Dimensiones de los conjuntos ===\")\n",
    "print(f\"X_train: {X_train.shape}   | y_train: {y_train.shape}\")\n",
    "print(f\"X_val:   {X_val.shape}     | y_val:   {y_val.shape}\")\n",
    "print(f\"X_test:  {X_test.shape}    | y_test:  {y_test.shape}\")\n",
    "\n",
    "# 📋 Verificación adicional (opcional)\n",
    "print(\"\\n=== Verificación de tipos ===\")\n",
    "print(\"X_train columnas:\", X_train.columns.tolist()[:8], \"...\")  # muestra primeras 8\n",
    "print(\"Etiquetas únicas en y_train:\", set(y_train))\n"
   ]
  },
  {
   "cell_type": "markdown",
   "id": "c9cc73e4",
   "metadata": {},
   "source": [
    "Para el entrenamiento de los modelos se tienen 27 atributos de imágenes, para 165-62-52 imágenes en cada split, para dos etiquetas únicas."
   ]
  },
  {
   "cell_type": "markdown",
   "id": "e52be9e0",
   "metadata": {},
   "source": [
    "_________\n",
    "## Preprocesamiento de imgágenes"
   ]
  },
  {
   "cell_type": "code",
   "execution_count": 58,
   "id": "a8352a81",
   "metadata": {},
   "outputs": [],
   "source": [
    "train_ds = MRIDataset(X_train)\n",
    "val_ds = MRIDataset(X_val)\n",
    "test_ds = MRIDataset(X_test)\n",
    "\n",
    "train_loader = DataLoader(train_ds, batch_size=4, shuffle=True)\n",
    "val_loader = DataLoader(val_ds, batch_size=4)\n",
    "test_loader = DataLoader(test_ds, batch_size=4)"
   ]
  },
  {
   "cell_type": "code",
   "execution_count": 57,
   "id": "24a7629a",
   "metadata": {},
   "outputs": [
    {
     "name": "stdout",
     "output_type": "stream",
     "text": [
      "Train: 165\n",
      "Val: 62\n",
      "Test: 52\n"
     ]
    }
   ],
   "source": [
    "total_train = sum(imgs.shape[0] for imgs, _ in train_loader)\n",
    "total_val = sum(imgs.shape[0] for imgs, _ in val_loader)\n",
    "total_test = sum(imgs.shape[0] for imgs, _ in test_loader)\n",
    "\n",
    "print(\"Train:\", total_train)\n",
    "print(\"Val:\", total_val)\n",
    "print(\"Test:\", total_test)\n"
   ]
  },
  {
   "cell_type": "markdown",
   "id": "e06d374b",
   "metadata": {},
   "source": [
    "1. Preparar datos (✔️)\n",
    "2. Dataset & Dataloader\n",
    "3. Modelos 3D\n",
    "4. Entrenamiento\n",
    "5. Evaluación\n",
    "6. Comparación"
   ]
  }
 ],
 "metadata": {
  "kernelspec": {
   "display_name": "MACHINE",
   "language": "python",
   "name": "python3"
  },
  "language_info": {
   "codemirror_mode": {
    "name": "ipython",
    "version": 3
   },
   "file_extension": ".py",
   "mimetype": "text/x-python",
   "name": "python",
   "nbconvert_exporter": "python",
   "pygments_lexer": "ipython3",
   "version": "3.10.18"
  }
 },
 "nbformat": 4,
 "nbformat_minor": 5
}
