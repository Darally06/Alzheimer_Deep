{
 "cells": [
  {
   "cell_type": "markdown",
   "id": "8fd55b87",
   "metadata": {},
   "source": [
    "# **Modelos 3D para imágenes**"
   ]
  },
  {
   "cell_type": "code",
   "execution_count": 1,
   "id": "1552a49a",
   "metadata": {},
   "outputs": [],
   "source": [
    "import os, torch\n",
    "from torch.utils.data import Dataset\n",
    "from sklearn.model_selection import GroupShuffleSplit\n",
    "import numpy as np\n",
    "import pandas as pd\n",
    "from pathlib import Path"
   ]
  },
  {
   "cell_type": "code",
   "execution_count": 2,
   "id": "77885a5c",
   "metadata": {},
   "outputs": [],
   "source": [
    "# === Directorios ===\n",
    "OUT_DIR = Path(r\"C:\\Users\\Hp\\MACHINE\\MRI\\datos\\procesadas\")\n",
    "df = pd.read_csv(r\"C:\\Users\\Hp\\MACHINE\\MRI\\notebooks\\Data\\atributos.csv\")"
   ]
  },
  {
   "cell_type": "code",
   "execution_count": 3,
   "id": "1f8cb154",
   "metadata": {},
   "outputs": [
    {
     "name": "stdout",
     "output_type": "stream",
     "text": [
      "\n",
      "Nulos por columna principal:\n",
      "is_dementia         28\n",
      "label_progresion     0\n",
      "dtype: int64\n"
     ]
    }
   ],
   "source": [
    "# --- Revisar valores nulos ---\n",
    "print(\"\\nNulos por columna principal:\")\n",
    "print(df[[\"is_dementia\", \"label_progresion\"]].isna().sum())"
   ]
  },
  {
   "cell_type": "code",
   "execution_count": null,
   "id": "17bc08ce",
   "metadata": {},
   "outputs": [
    {
     "name": "stdout",
     "output_type": "stream",
     "text": [
      "\n",
      "📊 Distribución de la variable objetivo:\n",
      "label_progresion\n",
      "0    54.84\n",
      "1    45.16\n",
      "Name: proportion, dtype: float64\n"
     ]
    },
    {
     "data": {
      "text/plain": [
       "<Axes: title={'center': 'Distribución de progresión'}, xlabel='label_progresion'>"
      ]
     },
     "execution_count": 4,
     "metadata": {},
     "output_type": "execute_result"
    },
    {
     "data": {
      "image/png": "[encoded data removed]",
      "text/plain": [
       "<Figure size 640x480 with 1 Axes>"
      ]
     },
     "metadata": {},
     "output_type": "display_data"
    }
   ],
   "source": [
    "# === 1️⃣ Balance de clases ===\n",
    "print(\"\\n Distribución de la variable objetivo:\")\n",
    "print(df[\"label_progresion\"].value_counts(normalize=True).mul(100).round(2))\n",
    "df[\"label_progresion\"].value_counts().plot(kind=\"bar\", title=\"Distribución de progresión\")\n"
   ]
  },
  {
   "cell_type": "code",
   "execution_count": 5,
   "id": "ef5563f1",
   "metadata": {},
   "outputs": [
    {
     "name": "stdout",
     "output_type": "stream",
     "text": [
      "\n",
      "📂 Tamaños del split:\n",
      "Entrenamiento: 190\n",
      "Validación:   45\n",
      "Prueba:       44\n"
     ]
    }
   ],
   "source": [
    "# === 3️⃣ División 75/15/15 por sujeto ===\n",
    "groups = df[\"sujeto_id\"]\n",
    "\n",
    "gss1 = GroupShuffleSplit(test_size=0.30, n_splits=1, random_state=42)\n",
    "train_idx, temp_idx = next(gss1.split(df, groups=groups))\n",
    "train_df, temp_df = df.iloc[train_idx], df.iloc[temp_idx]\n",
    "\n",
    "# ahora dividimos temp en validación y test (15/15)\n",
    "gss2 = GroupShuffleSplit(test_size=0.50, n_splits=1, random_state=42)\n",
    "val_idx, test_idx = next(gss2.split(temp_df, groups=temp_df[\"sujeto_id\"]))\n",
    "val_df, test_df = temp_df.iloc[val_idx], temp_df.iloc[test_idx]\n",
    "\n",
    "print(\"\\n📂 Tamaños del split:\")\n",
    "print(f\"Entrenamiento: {len(train_df)}\")\n",
    "print(f\"Validación:   {len(val_df)}\")\n",
    "print(f\"Prueba:       {len(test_df)}\")"
   ]
  },
  {
   "cell_type": "code",
   "execution_count": 6,
   "id": "6fb852c8",
   "metadata": {},
   "outputs": [
    {
     "name": "stdout",
     "output_type": "stream",
     "text": [
      "\n",
      "✅ Variables listas:\n",
      "X_train: 190 rutas\n",
      "y_train: [ 74 116] clases (balance)\n"
     ]
    }
   ],
   "source": [
    "# === 4️⃣ Preparar X y y ===\n",
    "X_train = train_df[\"ruta_npy\"].values\n",
    "y_train = train_df[\"label_progresion\"].values.astype(np.float32)\n",
    "\n",
    "X_val   = val_df[\"ruta_npy\"].values\n",
    "y_val   = val_df[\"label_progresion\"].values.astype(np.float32)\n",
    "\n",
    "X_test  = test_df[\"ruta_npy\"].values\n",
    "y_test  = test_df[\"label_progresion\"].values.astype(np.float32)\n",
    "\n",
    "print(\"\\n✅ Variables listas:\")\n",
    "print(f\"X_train: {len(X_train)} rutas\")\n",
    "print(f\"y_train: {np.bincount(y_train.astype(int))} clases (balance)\")"
   ]
  },
  {
   "cell_type": "code",
   "execution_count": null,
   "id": "9e9362c4",
   "metadata": {},
   "outputs": [],
   "source": [
    "class MRIDataset(Dataset):\n",
    "    def __init__(self, df, transform=None):\n",
    "        self.df = df\n",
    "        self.transform = transform\n",
    "\n",
    "    def __len__(self):\n",
    "        return len(self.df)\n",
    "\n",
    "    def __getitem__(self, idx):\n",
    "        row = self.df.iloc[idx]\n",
    "        img = np.load(row[\"ruta_npy\"]).astype(np.float32)\n",
    "        img = np.expand_dims(img, axis=0)  # canal único [1, D, H, W]\n",
    "        label = torch.tensor(row[\"label_progresion\"], dtype=torch.float32)\n",
    "        if self.transform:\n",
    "            img = self.transform(img)\n",
    "        return torch.tensor(img), label"
   ]
  },
  {
   "cell_type": "code",
   "execution_count": null,
   "id": "77697e97",
   "metadata": {
    "vscode": {
     "languageId": "javascript"
    }
   },
   "outputs": [],
   "source": [
    "splitter = GroupShuffleSplit(test_size=0.2, n_splits=1, random_state=42)\n",
    "train_idx, test_idx = next(splitter.split(df, groups=df[\"sujeto_id\"]))\n",
    "train_df, test_df = df.iloc[train_idx], df.iloc[test_idx]"
   ]
  }
 ],
 "metadata": {
  "kernelspec": {
   "display_name": "MACHINE",
   "language": "python",
   "name": "python3"
  },
  "language_info": {
   "codemirror_mode": {
    "name": "ipython",
    "version": 3
   },
   "file_extension": ".py",
   "mimetype": "text/x-python",
   "name": "python",
   "nbconvert_exporter": "python",
   "pygments_lexer": "ipython3",
   "version": "3.10.18"
  }
 },
 "nbformat": 4,
 "nbformat_minor": 5
}
