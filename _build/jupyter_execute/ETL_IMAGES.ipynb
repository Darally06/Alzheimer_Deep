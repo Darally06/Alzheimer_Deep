{
 "cells": [
  {
   "cell_type": "markdown",
   "id": "0f273152",
   "metadata": {},
   "source": [
    "# **ETL -IMAGES**"
   ]
  },
  {
   "cell_type": "code",
   "execution_count": 1,
   "id": "8f6793d3",
   "metadata": {},
   "outputs": [],
   "source": [
    "# [Config] Librerías\n",
    "import pandas as pd\n",
    "import os\n",
    "import nibabel as nib\n",
    "import re\n",
    "import nibabel as nib\n",
    "import pandas as pd\n",
    "from datetime import datetime\n",
    "import subprocess\n",
    "import numpy as np\n"
   ]
  },
  {
   "cell_type": "code",
   "execution_count": 2,
   "id": "ee82dbb5",
   "metadata": {},
   "outputs": [
    {
     "ename": "FileNotFoundError",
     "evalue": "[Errno 2] No such file or directory: 'C:\\\\Users\\\\Hp\\\\MACHINE\\\\MRI\\\\ADNIMERGE.csv'",
     "output_type": "error",
     "traceback": [
      "\u001b[1;31m---------------------------------------------------------------------------\u001b[0m",
      "\u001b[1;31mFileNotFoundError\u001b[0m                         Traceback (most recent call last)",
      "Cell \u001b[1;32mIn[2], line 7\u001b[0m\n\u001b[0;32m      4\u001b[0m output_dir  \u001b[38;5;241m=\u001b[39m \u001b[38;5;124mr\u001b[39m\u001b[38;5;124m\"\u001b[39m\u001b[38;5;124mC:\u001b[39m\u001b[38;5;124m\\\u001b[39m\u001b[38;5;124mUsers\u001b[39m\u001b[38;5;124m\\\u001b[39m\u001b[38;5;124mHp\u001b[39m\u001b[38;5;124m\\\u001b[39m\u001b[38;5;124mMACHINE\u001b[39m\u001b[38;5;124m\\\u001b[39m\u001b[38;5;124mMRI\u001b[39m\u001b[38;5;124m\\\u001b[39m\u001b[38;5;124mIMAGES\u001b[39m\u001b[38;5;124m\"\u001b[39m\n\u001b[0;32m      5\u001b[0m dcm2niix_path \u001b[38;5;241m=\u001b[39m \u001b[38;5;124mr\u001b[39m\u001b[38;5;124m\"\u001b[39m\u001b[38;5;124mC:\u001b[39m\u001b[38;5;124m\\\u001b[39m\u001b[38;5;124mUsers\u001b[39m\u001b[38;5;124m\\\u001b[39m\u001b[38;5;124mHp\u001b[39m\u001b[38;5;124m\\\u001b[39m\u001b[38;5;124mdcm2niix_win\u001b[39m\u001b[38;5;124m\\\u001b[39m\u001b[38;5;124mdcm2niix.exe\u001b[39m\u001b[38;5;124m\"\u001b[39m\n\u001b[1;32m----> 7\u001b[0m df_clinical \u001b[38;5;241m=\u001b[39m \u001b[43mpd\u001b[49m\u001b[38;5;241;43m.\u001b[39;49m\u001b[43mread_csv\u001b[49m\u001b[43m(\u001b[49m\u001b[38;5;124;43mr\u001b[39;49m\u001b[38;5;124;43m\"\u001b[39;49m\u001b[38;5;124;43mC:\u001b[39;49m\u001b[38;5;124;43m\\\u001b[39;49m\u001b[38;5;124;43mUsers\u001b[39;49m\u001b[38;5;124;43m\\\u001b[39;49m\u001b[38;5;124;43mHp\u001b[39;49m\u001b[38;5;124;43m\\\u001b[39;49m\u001b[38;5;124;43mMACHINE\u001b[39;49m\u001b[38;5;124;43m\\\u001b[39;49m\u001b[38;5;124;43mMRI\u001b[39;49m\u001b[38;5;124;43m\\\u001b[39;49m\u001b[38;5;124;43mADNIMERGE.csv\u001b[39;49m\u001b[38;5;124;43m\"\u001b[39;49m\u001b[43m,\u001b[49m\u001b[43m \u001b[49m\u001b[43mlow_memory\u001b[49m\u001b[38;5;241;43m=\u001b[39;49m\u001b[38;5;28;43;01mFalse\u001b[39;49;00m\u001b[43m)\u001b[49m\n",
      "File \u001b[1;32m~\\anaconda3\\envs\\MACHINE\\lib\\site-packages\\pandas\\io\\parsers\\readers.py:1026\u001b[0m, in \u001b[0;36mread_csv\u001b[1;34m(filepath_or_buffer, sep, delimiter, header, names, index_col, usecols, dtype, engine, converters, true_values, false_values, skipinitialspace, skiprows, skipfooter, nrows, na_values, keep_default_na, na_filter, verbose, skip_blank_lines, parse_dates, infer_datetime_format, keep_date_col, date_parser, date_format, dayfirst, cache_dates, iterator, chunksize, compression, thousands, decimal, lineterminator, quotechar, quoting, doublequote, escapechar, comment, encoding, encoding_errors, dialect, on_bad_lines, delim_whitespace, low_memory, memory_map, float_precision, storage_options, dtype_backend)\u001b[0m\n\u001b[0;32m   1013\u001b[0m kwds_defaults \u001b[38;5;241m=\u001b[39m _refine_defaults_read(\n\u001b[0;32m   1014\u001b[0m     dialect,\n\u001b[0;32m   1015\u001b[0m     delimiter,\n\u001b[1;32m   (...)\u001b[0m\n\u001b[0;32m   1022\u001b[0m     dtype_backend\u001b[38;5;241m=\u001b[39mdtype_backend,\n\u001b[0;32m   1023\u001b[0m )\n\u001b[0;32m   1024\u001b[0m kwds\u001b[38;5;241m.\u001b[39mupdate(kwds_defaults)\n\u001b[1;32m-> 1026\u001b[0m \u001b[38;5;28;01mreturn\u001b[39;00m \u001b[43m_read\u001b[49m\u001b[43m(\u001b[49m\u001b[43mfilepath_or_buffer\u001b[49m\u001b[43m,\u001b[49m\u001b[43m \u001b[49m\u001b[43mkwds\u001b[49m\u001b[43m)\u001b[49m\n",
      "File \u001b[1;32m~\\anaconda3\\envs\\MACHINE\\lib\\site-packages\\pandas\\io\\parsers\\readers.py:620\u001b[0m, in \u001b[0;36m_read\u001b[1;34m(filepath_or_buffer, kwds)\u001b[0m\n\u001b[0;32m    617\u001b[0m _validate_names(kwds\u001b[38;5;241m.\u001b[39mget(\u001b[38;5;124m\"\u001b[39m\u001b[38;5;124mnames\u001b[39m\u001b[38;5;124m\"\u001b[39m, \u001b[38;5;28;01mNone\u001b[39;00m))\n\u001b[0;32m    619\u001b[0m \u001b[38;5;66;03m# Create the parser.\u001b[39;00m\n\u001b[1;32m--> 620\u001b[0m parser \u001b[38;5;241m=\u001b[39m TextFileReader(filepath_or_buffer, \u001b[38;5;241m*\u001b[39m\u001b[38;5;241m*\u001b[39mkwds)\n\u001b[0;32m    622\u001b[0m \u001b[38;5;28;01mif\u001b[39;00m chunksize \u001b[38;5;129;01mor\u001b[39;00m iterator:\n\u001b[0;32m    623\u001b[0m     \u001b[38;5;28;01mreturn\u001b[39;00m parser\n",
      "File \u001b[1;32m~\\anaconda3\\envs\\MACHINE\\lib\\site-packages\\pandas\\io\\parsers\\readers.py:1620\u001b[0m, in \u001b[0;36mTextFileReader.__init__\u001b[1;34m(self, f, engine, **kwds)\u001b[0m\n\u001b[0;32m   1617\u001b[0m     \u001b[38;5;28mself\u001b[39m\u001b[38;5;241m.\u001b[39moptions[\u001b[38;5;124m\"\u001b[39m\u001b[38;5;124mhas_index_names\u001b[39m\u001b[38;5;124m\"\u001b[39m] \u001b[38;5;241m=\u001b[39m kwds[\u001b[38;5;124m\"\u001b[39m\u001b[38;5;124mhas_index_names\u001b[39m\u001b[38;5;124m\"\u001b[39m]\n\u001b[0;32m   1619\u001b[0m \u001b[38;5;28mself\u001b[39m\u001b[38;5;241m.\u001b[39mhandles: IOHandles \u001b[38;5;241m|\u001b[39m \u001b[38;5;28;01mNone\u001b[39;00m \u001b[38;5;241m=\u001b[39m \u001b[38;5;28;01mNone\u001b[39;00m\n\u001b[1;32m-> 1620\u001b[0m \u001b[38;5;28mself\u001b[39m\u001b[38;5;241m.\u001b[39m_engine \u001b[38;5;241m=\u001b[39m \u001b[38;5;28;43mself\u001b[39;49m\u001b[38;5;241;43m.\u001b[39;49m\u001b[43m_make_engine\u001b[49m\u001b[43m(\u001b[49m\u001b[43mf\u001b[49m\u001b[43m,\u001b[49m\u001b[43m \u001b[49m\u001b[38;5;28;43mself\u001b[39;49m\u001b[38;5;241;43m.\u001b[39;49m\u001b[43mengine\u001b[49m\u001b[43m)\u001b[49m\n",
      "File \u001b[1;32m~\\anaconda3\\envs\\MACHINE\\lib\\site-packages\\pandas\\io\\parsers\\readers.py:1880\u001b[0m, in \u001b[0;36mTextFileReader._make_engine\u001b[1;34m(self, f, engine)\u001b[0m\n\u001b[0;32m   1878\u001b[0m     \u001b[38;5;28;01mif\u001b[39;00m \u001b[38;5;124m\"\u001b[39m\u001b[38;5;124mb\u001b[39m\u001b[38;5;124m\"\u001b[39m \u001b[38;5;129;01mnot\u001b[39;00m \u001b[38;5;129;01min\u001b[39;00m mode:\n\u001b[0;32m   1879\u001b[0m         mode \u001b[38;5;241m+\u001b[39m\u001b[38;5;241m=\u001b[39m \u001b[38;5;124m\"\u001b[39m\u001b[38;5;124mb\u001b[39m\u001b[38;5;124m\"\u001b[39m\n\u001b[1;32m-> 1880\u001b[0m \u001b[38;5;28mself\u001b[39m\u001b[38;5;241m.\u001b[39mhandles \u001b[38;5;241m=\u001b[39m \u001b[43mget_handle\u001b[49m\u001b[43m(\u001b[49m\n\u001b[0;32m   1881\u001b[0m \u001b[43m    \u001b[49m\u001b[43mf\u001b[49m\u001b[43m,\u001b[49m\n\u001b[0;32m   1882\u001b[0m \u001b[43m    \u001b[49m\u001b[43mmode\u001b[49m\u001b[43m,\u001b[49m\n\u001b[0;32m   1883\u001b[0m \u001b[43m    \u001b[49m\u001b[43mencoding\u001b[49m\u001b[38;5;241;43m=\u001b[39;49m\u001b[38;5;28;43mself\u001b[39;49m\u001b[38;5;241;43m.\u001b[39;49m\u001b[43moptions\u001b[49m\u001b[38;5;241;43m.\u001b[39;49m\u001b[43mget\u001b[49m\u001b[43m(\u001b[49m\u001b[38;5;124;43m\"\u001b[39;49m\u001b[38;5;124;43mencoding\u001b[39;49m\u001b[38;5;124;43m\"\u001b[39;49m\u001b[43m,\u001b[49m\u001b[43m \u001b[49m\u001b[38;5;28;43;01mNone\u001b[39;49;00m\u001b[43m)\u001b[49m\u001b[43m,\u001b[49m\n\u001b[0;32m   1884\u001b[0m \u001b[43m    \u001b[49m\u001b[43mcompression\u001b[49m\u001b[38;5;241;43m=\u001b[39;49m\u001b[38;5;28;43mself\u001b[39;49m\u001b[38;5;241;43m.\u001b[39;49m\u001b[43moptions\u001b[49m\u001b[38;5;241;43m.\u001b[39;49m\u001b[43mget\u001b[49m\u001b[43m(\u001b[49m\u001b[38;5;124;43m\"\u001b[39;49m\u001b[38;5;124;43mcompression\u001b[39;49m\u001b[38;5;124;43m\"\u001b[39;49m\u001b[43m,\u001b[49m\u001b[43m \u001b[49m\u001b[38;5;28;43;01mNone\u001b[39;49;00m\u001b[43m)\u001b[49m\u001b[43m,\u001b[49m\n\u001b[0;32m   1885\u001b[0m \u001b[43m    \u001b[49m\u001b[43mmemory_map\u001b[49m\u001b[38;5;241;43m=\u001b[39;49m\u001b[38;5;28;43mself\u001b[39;49m\u001b[38;5;241;43m.\u001b[39;49m\u001b[43moptions\u001b[49m\u001b[38;5;241;43m.\u001b[39;49m\u001b[43mget\u001b[49m\u001b[43m(\u001b[49m\u001b[38;5;124;43m\"\u001b[39;49m\u001b[38;5;124;43mmemory_map\u001b[39;49m\u001b[38;5;124;43m\"\u001b[39;49m\u001b[43m,\u001b[49m\u001b[43m \u001b[49m\u001b[38;5;28;43;01mFalse\u001b[39;49;00m\u001b[43m)\u001b[49m\u001b[43m,\u001b[49m\n\u001b[0;32m   1886\u001b[0m \u001b[43m    \u001b[49m\u001b[43mis_text\u001b[49m\u001b[38;5;241;43m=\u001b[39;49m\u001b[43mis_text\u001b[49m\u001b[43m,\u001b[49m\n\u001b[0;32m   1887\u001b[0m \u001b[43m    \u001b[49m\u001b[43merrors\u001b[49m\u001b[38;5;241;43m=\u001b[39;49m\u001b[38;5;28;43mself\u001b[39;49m\u001b[38;5;241;43m.\u001b[39;49m\u001b[43moptions\u001b[49m\u001b[38;5;241;43m.\u001b[39;49m\u001b[43mget\u001b[49m\u001b[43m(\u001b[49m\u001b[38;5;124;43m\"\u001b[39;49m\u001b[38;5;124;43mencoding_errors\u001b[39;49m\u001b[38;5;124;43m\"\u001b[39;49m\u001b[43m,\u001b[49m\u001b[43m \u001b[49m\u001b[38;5;124;43m\"\u001b[39;49m\u001b[38;5;124;43mstrict\u001b[39;49m\u001b[38;5;124;43m\"\u001b[39;49m\u001b[43m)\u001b[49m\u001b[43m,\u001b[49m\n\u001b[0;32m   1888\u001b[0m \u001b[43m    \u001b[49m\u001b[43mstorage_options\u001b[49m\u001b[38;5;241;43m=\u001b[39;49m\u001b[38;5;28;43mself\u001b[39;49m\u001b[38;5;241;43m.\u001b[39;49m\u001b[43moptions\u001b[49m\u001b[38;5;241;43m.\u001b[39;49m\u001b[43mget\u001b[49m\u001b[43m(\u001b[49m\u001b[38;5;124;43m\"\u001b[39;49m\u001b[38;5;124;43mstorage_options\u001b[39;49m\u001b[38;5;124;43m\"\u001b[39;49m\u001b[43m,\u001b[49m\u001b[43m \u001b[49m\u001b[38;5;28;43;01mNone\u001b[39;49;00m\u001b[43m)\u001b[49m\u001b[43m,\u001b[49m\n\u001b[0;32m   1889\u001b[0m \u001b[43m\u001b[49m\u001b[43m)\u001b[49m\n\u001b[0;32m   1890\u001b[0m \u001b[38;5;28;01massert\u001b[39;00m \u001b[38;5;28mself\u001b[39m\u001b[38;5;241m.\u001b[39mhandles \u001b[38;5;129;01mis\u001b[39;00m \u001b[38;5;129;01mnot\u001b[39;00m \u001b[38;5;28;01mNone\u001b[39;00m\n\u001b[0;32m   1891\u001b[0m f \u001b[38;5;241m=\u001b[39m \u001b[38;5;28mself\u001b[39m\u001b[38;5;241m.\u001b[39mhandles\u001b[38;5;241m.\u001b[39mhandle\n",
      "File \u001b[1;32m~\\anaconda3\\envs\\MACHINE\\lib\\site-packages\\pandas\\io\\common.py:873\u001b[0m, in \u001b[0;36mget_handle\u001b[1;34m(path_or_buf, mode, encoding, compression, memory_map, is_text, errors, storage_options)\u001b[0m\n\u001b[0;32m    868\u001b[0m \u001b[38;5;28;01melif\u001b[39;00m \u001b[38;5;28misinstance\u001b[39m(handle, \u001b[38;5;28mstr\u001b[39m):\n\u001b[0;32m    869\u001b[0m     \u001b[38;5;66;03m# Check whether the filename is to be opened in binary mode.\u001b[39;00m\n\u001b[0;32m    870\u001b[0m     \u001b[38;5;66;03m# Binary mode does not support 'encoding' and 'newline'.\u001b[39;00m\n\u001b[0;32m    871\u001b[0m     \u001b[38;5;28;01mif\u001b[39;00m ioargs\u001b[38;5;241m.\u001b[39mencoding \u001b[38;5;129;01mand\u001b[39;00m \u001b[38;5;124m\"\u001b[39m\u001b[38;5;124mb\u001b[39m\u001b[38;5;124m\"\u001b[39m \u001b[38;5;129;01mnot\u001b[39;00m \u001b[38;5;129;01min\u001b[39;00m ioargs\u001b[38;5;241m.\u001b[39mmode:\n\u001b[0;32m    872\u001b[0m         \u001b[38;5;66;03m# Encoding\u001b[39;00m\n\u001b[1;32m--> 873\u001b[0m         handle \u001b[38;5;241m=\u001b[39m \u001b[38;5;28;43mopen\u001b[39;49m\u001b[43m(\u001b[49m\n\u001b[0;32m    874\u001b[0m \u001b[43m            \u001b[49m\u001b[43mhandle\u001b[49m\u001b[43m,\u001b[49m\n\u001b[0;32m    875\u001b[0m \u001b[43m            \u001b[49m\u001b[43mioargs\u001b[49m\u001b[38;5;241;43m.\u001b[39;49m\u001b[43mmode\u001b[49m\u001b[43m,\u001b[49m\n\u001b[0;32m    876\u001b[0m \u001b[43m            \u001b[49m\u001b[43mencoding\u001b[49m\u001b[38;5;241;43m=\u001b[39;49m\u001b[43mioargs\u001b[49m\u001b[38;5;241;43m.\u001b[39;49m\u001b[43mencoding\u001b[49m\u001b[43m,\u001b[49m\n\u001b[0;32m    877\u001b[0m \u001b[43m            \u001b[49m\u001b[43merrors\u001b[49m\u001b[38;5;241;43m=\u001b[39;49m\u001b[43merrors\u001b[49m\u001b[43m,\u001b[49m\n\u001b[0;32m    878\u001b[0m \u001b[43m            \u001b[49m\u001b[43mnewline\u001b[49m\u001b[38;5;241;43m=\u001b[39;49m\u001b[38;5;124;43m\"\u001b[39;49m\u001b[38;5;124;43m\"\u001b[39;49m\u001b[43m,\u001b[49m\n\u001b[0;32m    879\u001b[0m \u001b[43m        \u001b[49m\u001b[43m)\u001b[49m\n\u001b[0;32m    880\u001b[0m     \u001b[38;5;28;01melse\u001b[39;00m:\n\u001b[0;32m    881\u001b[0m         \u001b[38;5;66;03m# Binary mode\u001b[39;00m\n\u001b[0;32m    882\u001b[0m         handle \u001b[38;5;241m=\u001b[39m \u001b[38;5;28mopen\u001b[39m(handle, ioargs\u001b[38;5;241m.\u001b[39mmode)\n",
      "\u001b[1;31mFileNotFoundError\u001b[0m: [Errno 2] No such file or directory: 'C:\\\\Users\\\\Hp\\\\MACHINE\\\\MRI\\\\ADNIMERGE.csv'"
     ]
    }
   ],
   "source": [
    "# [Config] Rutas\n",
    "base_dir  = r\"C:\\Users\\Hp\\MACHINE\\MRI\\DATA\"\n",
    "\n",
    "output_dir  = r\"C:\\Users\\Hp\\MACHINE\\MRI\\IMAGES\"\n",
    "dcm2niix_path = r\"C:\\Users\\Hp\\dcm2niix_win\\dcm2niix.exe\"\n",
    "\n",
    "df_clinical = pd.read_csv(r\"C:\\Users\\Hp\\MACHINE\\MRI\\ADNIMERGE.csv\", low_memory=False)"
   ]
  },
  {
   "cell_type": "code",
   "execution_count": 3,
   "id": "eec0a40d",
   "metadata": {},
   "outputs": [],
   "source": [
    "# Atributos clínicos considerados\n",
    "atributes = [\n",
    "    # Identificación\n",
    "    \"PTID\",\"VISCODE\",\"EXAMDATE\",\"DX\",\n",
    "    # Demografía\n",
    "    \"AGE\",\"PTGENDER\",\"PTEDUCAT\",\n",
    "    # Genética\n",
    "    \"APOE4\",\n",
    "    # Cognitivas\n",
    "    \"CDRSB\",\"MMSE\",\"ADAS13\",\"FAQ\",\n",
    "    \"RAVLT_immediate\",\"RAVLT_learning\",\"RAVLT_forgetting\",\n",
    "    \"DIGITSCOR\",\"TRABSCOR\",\n",
    "    # MRI volumétricos\n",
    "    \"Ventricles\",\"Hippocampus\",\"WholeBrain\",\"Entorhinal\",\"Fusiform\",\"MidTemp\",\"ICV\",\n",
    "]\n",
    "df_clinical = df_clinical[atributes]\n",
    "df_clinical[\"EXAMDATE\"] = pd.to_datetime(df_clinical[\"EXAMDATE\"], errors=\"coerce\")"
   ]
  },
  {
   "cell_type": "markdown",
   "id": "356b3c56",
   "metadata": {},
   "source": [
    "````\n",
    "# [Función] Convertir DICOM -> NifTI\n",
    "for root, dirs, files in os.walk(base_dir):\n",
    "    if any(f.lower().endswith('.dcm') for f in files):\n",
    "        rel_path = os.path.relpath(root, base_dir)\n",
    "        out_path = os.path.join(output_dir, rel_path)\n",
    "        os.makedirs(out_path, exist_ok=True)\n",
    "        cmd = [\n",
    "            dcm2niix_path,\n",
    "            \"-z\", \"n\",       # ❌ No comprimir (.nii en lugar de .nii.gz)\n",
    "            \"-b\", \"n\",       # ❌ No crear JSON\n",
    "            \"-o\", out_path,  # 📁 Carpeta de salida\n",
    "            \"-f\", \"%p_%s\",   # 🧩 Nombre del archivo (protocolo_series)\n",
    "            root             # 📂 Carpeta de entrada con los DICOM\n",
    "        ]\n",
    "        print(f\"📦 Convirtiendo: {root}\")\n",
    "        subprocess.run(cmd, check=True)\n",
    "print(\"✅ Conversión DICOM → NIfTI completada.\")\n",
    "````"
   ]
  },
  {
   "cell_type": "code",
   "execution_count": 6,
   "id": "eb51623a",
   "metadata": {},
   "outputs": [
    {
     "name": "stdout",
     "output_type": "stream",
     "text": [
      "En total 302 imágenes fueron cargadas correctamente.\n"
     ]
    }
   ],
   "source": [
    "# [] Guardar atributos de las imágenes\n",
    "records = []\n",
    "\n",
    "for root, dirs, files in os.walk(output_dir):\n",
    "    for file in files:\n",
    "        if file.endswith(\".nii\"):\n",
    "            full_path = os.path.join(root, file)\n",
    "\n",
    "            # 🧩 Extraer ID del sujeto\n",
    "            match_id = re.search(r'(\\d{3}_S_\\d{4})', full_path)\n",
    "            sujeto_id = match_id.group(1) if match_id else None\n",
    "\n",
    "            # 🗓️ Extraer fecha del estudio (YYYY-MM-DD)\n",
    "            match_fecha = re.search(r'(\\d{4}-\\d{2}-\\d{2})', full_path)\n",
    "            fecha = match_fecha.group(1) if match_fecha else None\n",
    "\n",
    "            # Leer metadatos del NIfTI\n",
    "            try:\n",
    "                img = nib.load(full_path)\n",
    "                data = img.get_fdata()\n",
    "\n",
    "                header = img.header\n",
    "                shape = img.shape\n",
    "                voxel_size = header.get_zooms()\n",
    "                voxel_volume = np.prod(voxel_size)\n",
    "                total_volume = voxel_volume*np.prod(shape)\n",
    "                datatype = str(header.get_data_dtype())\n",
    "                mean_intensity = np.mean(data)\n",
    "                std_intensity = np.std(data)\n",
    "                orientation = nib.aff2axcodes(img.affine)\n",
    "                units = header.get_xyzt_units()\n",
    "\n",
    "                records.append([\n",
    "                    file, fecha, sujeto_id, shape, voxel_size, datatype, full_path,\n",
    "                    voxel_volume, total_volume, mean_intensity, std_intensity, orientation, units\n",
    "                ])\n",
    "            except Exception as e:\n",
    "                print(f\"⚠️ Error leyendo {file}: {e}\")\n",
    "\n",
    "df_images = pd.DataFrame(records, columns=[\n",
    "    \"archivo\", \"fecha_imagen\", \"sujeto_id\", \"shape\", \"voxel_size\", \"datatype\", \"ruta\",\n",
    "    \"voxel_volume_mm3\", \"total_volume\", \"mean_intensity\", \"std_intensity\", \"orientation\", \"units\"\n",
    "])\n",
    "\n",
    "# Convertir fecha a tipo datetime\n",
    "df_images[\"fecha_imagen\"] = pd.to_datetime(df_images[\"fecha_imagen\"], errors=\"coerce\")\n",
    "df_images.to_csv(\"Imagenes.csv\", index=False)\n",
    "\n",
    "print(f\"En total {len(df_images)} imágenes fueron cargadas correctamente.\")"
   ]
  },
  {
   "cell_type": "code",
   "execution_count": 20,
   "id": "0f17bb1a",
   "metadata": {},
   "outputs": [
    {
     "name": "stdout",
     "output_type": "stream",
     "text": [
      "Se tienen 298 imágenes con su registro.\n"
     ]
    }
   ],
   "source": [
    "df_images_sorted = df_images.sort_values([\"sujeto_id\", \"fecha_imagen\"])\n",
    "df_clinical_sorted = df_clinical.sort_values([\"PTID\", \"EXAMDATE\"])\n",
    "# Agrupar por sujeto\n",
    "grupos_img = df_images_sorted.groupby(\"sujeto_id\")\n",
    "grupos_clin = df_clinical_sorted.groupby(\"PTID\")\n",
    "\n",
    "# Lista para almacenar resultados\n",
    "asignaciones = []\n",
    "\n",
    "# Iterar por sujeto\n",
    "for sujeto in df_images_sorted[\"sujeto_id\"].unique():\n",
    "    imgs = grupos_img.get_group(sujeto).reset_index(drop=True)\n",
    "    clin = grupos_clin.get_group(sujeto).reset_index(drop=True)\n",
    "    \n",
    "    # Asegurar que tienen el mismo número de registros\n",
    "    n = min(len(imgs), len(clin))\n",
    "    \n",
    "    # Asignar VISCODE por posición\n",
    "    imgs = imgs.iloc[:n].copy()\n",
    "    clin = clin.iloc[:n].copy()\n",
    "    imgs[\"VISCODE\"] = clin[\"VISCODE\"]\n",
    "    \n",
    "    asignaciones.append(imgs)\n",
    "\n",
    "# Concatenar todo\n",
    "df = pd.concat(asignaciones, ignore_index=True)\n",
    "df = df.merge(\n",
    "    df_clinical,\n",
    "    left_on=[\"sujeto_id\", \"VISCODE\"],\n",
    "    right_on=[\"PTID\", \"VISCODE\"],\n",
    "    how=\"left\"  # Usamos left para conservar todas las imágenes\n",
    ")\n",
    "\n",
    "print(f\"Se tienen {df.shape[0]} imágenes con su registro.\")"
   ]
  },
  {
   "cell_type": "code",
   "execution_count": 21,
   "id": "589f2a0d",
   "metadata": {},
   "outputs": [
    {
     "name": "stdout",
     "output_type": "stream",
     "text": [
      "Total de pacientes 54\n",
      "Resumen de número de visitas por paciente:\n",
      "   Vistas  Pacientes\n",
      "0       2          2\n",
      "1       3          6\n",
      "2       4          7\n",
      "3       5         10\n",
      "4       6         13\n",
      "5       7         12\n",
      "6       8          3\n",
      "7      12          1\n"
     ]
    }
   ],
   "source": [
    "print(f\"Total de pacientes {df['sujeto_id'].nunique()}\")\n",
    "# Crear una tabla pivote donde las celdas indican si hay o no registro\n",
    "tabla_visitas = (\n",
    "    df\n",
    "    .assign(valor=\"O\")  # marcamos presencia\n",
    "    .pivot_table(index=\"sujeto_id\", columns=\"VISCODE\", values=\"valor\", aggfunc=\"first\", fill_value=\"X\")\n",
    "    .sort_index(axis=1)\n",
    ")\n",
    "tabla_visitas\n",
    "conteo_visitas = (tabla_visitas == \"O\").sum(axis=1)\n",
    "resumen_visitas = conteo_visitas.value_counts().sort_index()\n",
    "tabla_resumen = pd.DataFrame({\n",
    "    \"Vistas\": resumen_visitas.index,\n",
    "    \"Pacientes\": resumen_visitas.values\n",
    "})\n",
    "print(\"Resumen de número de visitas por paciente:\")\n",
    "print(tabla_resumen)\n"
   ]
  },
  {
   "cell_type": "code",
   "execution_count": 23,
   "id": "35f974b8",
   "metadata": {},
   "outputs": [],
   "source": [
    "df.to_csv('ADNI_Images.csv', index=False)"
   ]
  }
 ],
 "metadata": {
  "kernelspec": {
   "display_name": "MACHINE",
   "language": "python",
   "name": "python3"
  },
  "language_info": {
   "codemirror_mode": {
    "name": "ipython",
    "version": 3
   },
   "file_extension": ".py",
   "mimetype": "text/x-python",
   "name": "python",
   "nbconvert_exporter": "python",
   "pygments_lexer": "ipython3",
   "version": "3.10.18"
  }
 },
 "nbformat": 4,
 "nbformat_minor": 5
}