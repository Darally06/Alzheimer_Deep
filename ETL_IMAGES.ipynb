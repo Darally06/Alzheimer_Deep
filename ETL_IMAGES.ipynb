{
 "cells": [
  {
   "cell_type": "markdown",
   "id": "0f273152",
   "metadata": {},
   "source": [
    "# **ETL -IMAGES**"
   ]
  },
  {
   "cell_type": "code",
   "execution_count": 1,
   "id": "8f6793d3",
   "metadata": {},
   "outputs": [],
   "source": [
    "# [Config] Librerías\n",
    "import pandas as pd\n",
    "import os\n",
    "import nibabel as nib\n",
    "import re\n",
    "import nibabel as nib\n",
    "import pandas as pd\n",
    "from datetime import datetime\n",
    "import subprocess\n",
    "import numpy as np\n"
   ]
  },
  {
   "cell_type": "code",
   "execution_count": 2,
   "id": "ee82dbb5",
   "metadata": {},
   "outputs": [],
   "source": [
    "# [Config] Rutas\n",
    "base_dir  = r\"C:\\Users\\Hp\\MACHINE\\MRI\\DATA\"\n",
    "\n",
    "output_dir  = r\"C:\\Users\\Hp\\MACHINE\\MRI\\IMAGES\"\n",
    "dcm2niix_path = r\"C:\\Users\\Hp\\dcm2niix_win\\dcm2niix.exe\"\n",
    "\n",
    "df_clinical = pd.read_csv(r\"C:\\Users\\Hp\\MACHINE\\MRI\\ADNIMERGE.csv\", low_memory=False)"
   ]
  },
  {
   "cell_type": "code",
   "execution_count": 3,
   "id": "eec0a40d",
   "metadata": {},
   "outputs": [],
   "source": [
    "# Atributos clínicos considerados\n",
    "atributes = [\n",
    "    # Identificación\n",
    "    \"PTID\",\"VISCODE\",\"EXAMDATE\",\"DX\",\n",
    "    # Demografía\n",
    "    \"AGE\",\"PTGENDER\",\"PTEDUCAT\",\n",
    "    # Genética\n",
    "    \"APOE4\",\n",
    "    # Cognitivas\n",
    "    \"CDRSB\",\"MMSE\",\"ADAS13\",\"FAQ\",\n",
    "    \"RAVLT_immediate\",\"RAVLT_learning\",\"RAVLT_forgetting\",\n",
    "    \"DIGITSCOR\",\"TRABSCOR\",\n",
    "    # MRI volumétricos\n",
    "    \"Ventricles\",\"Hippocampus\",\"WholeBrain\",\"Entorhinal\",\"Fusiform\",\"MidTemp\",\"ICV\",\n",
    "]\n",
    "df_clinical = df_clinical[atributes]\n",
    "df_clinical[\"EXAMDATE\"] = pd.to_datetime(df_clinical[\"EXAMDATE\"], errors=\"coerce\")"
   ]
  },
  {
   "cell_type": "markdown",
   "id": "356b3c56",
   "metadata": {},
   "source": [
    "````\n",
    "# [Función] Convertir DICOM -> NifTI\n",
    "for root, dirs, files in os.walk(base_dir):\n",
    "    if any(f.lower().endswith('.dcm') for f in files):\n",
    "        rel_path = os.path.relpath(root, base_dir)\n",
    "        out_path = os.path.join(output_dir, rel_path)\n",
    "        os.makedirs(out_path, exist_ok=True)\n",
    "        cmd = [\n",
    "            dcm2niix_path,\n",
    "            \"-z\", \"n\",       # ❌ No comprimir (.nii en lugar de .nii.gz)\n",
    "            \"-b\", \"n\",       # ❌ No crear JSON\n",
    "            \"-o\", out_path,  # 📁 Carpeta de salida\n",
    "            \"-f\", \"%p_%s\",   # 🧩 Nombre del archivo (protocolo_series)\n",
    "            root             # 📂 Carpeta de entrada con los DICOM\n",
    "        ]\n",
    "        print(f\"📦 Convirtiendo: {root}\")\n",
    "        subprocess.run(cmd, check=True)\n",
    "print(\"✅ Conversión DICOM → NIfTI completada.\")\n",
    "````"
   ]
  },
  {
   "cell_type": "code",
   "execution_count": 6,
   "id": "eb51623a",
   "metadata": {},
   "outputs": [
    {
     "name": "stdout",
     "output_type": "stream",
     "text": [
      "En total 302 imágenes fueron cargadas correctamente.\n"
     ]
    }
   ],
   "source": [
    "# [] Guardar atributos de las imágenes\n",
    "records = []\n",
    "\n",
    "for root, dirs, files in os.walk(output_dir):\n",
    "    for file in files:\n",
    "        if file.endswith(\".nii\"):\n",
    "            full_path = os.path.join(root, file)\n",
    "\n",
    "            # 🧩 Extraer ID del sujeto\n",
    "            match_id = re.search(r'(\\d{3}_S_\\d{4})', full_path)\n",
    "            sujeto_id = match_id.group(1) if match_id else None\n",
    "\n",
    "            # 🗓️ Extraer fecha del estudio (YYYY-MM-DD)\n",
    "            match_fecha = re.search(r'(\\d{4}-\\d{2}-\\d{2})', full_path)\n",
    "            fecha = match_fecha.group(1) if match_fecha else None\n",
    "\n",
    "            # Leer metadatos del NIfTI\n",
    "            try:\n",
    "                img = nib.load(full_path)\n",
    "                data = img.get_fdata()\n",
    "\n",
    "                header = img.header\n",
    "                shape = img.shape\n",
    "                voxel_size = header.get_zooms()\n",
    "                voxel_volume = np.prod(voxel_size)\n",
    "                total_volume = voxel_volume*np.prod(shape)\n",
    "                datatype = str(header.get_data_dtype())\n",
    "                mean_intensity = np.mean(data)\n",
    "                std_intensity = np.std(data)\n",
    "                orientation = nib.aff2axcodes(img.affine)\n",
    "                units = header.get_xyzt_units()\n",
    "\n",
    "                records.append([\n",
    "                    file, fecha, sujeto_id, shape, voxel_size, datatype, full_path,\n",
    "                    voxel_volume, total_volume, mean_intensity, std_intensity, orientation, units\n",
    "                ])\n",
    "            except Exception as e:\n",
    "                print(f\"⚠️ Error leyendo {file}: {e}\")\n",
    "\n",
    "df_images = pd.DataFrame(records, columns=[\n",
    "    \"archivo\", \"fecha_imagen\", \"sujeto_id\", \"shape\", \"voxel_size\", \"datatype\", \"ruta\",\n",
    "    \"voxel_volume_mm3\", \"total_volume\", \"mean_intensity\", \"std_intensity\", \"orientation\", \"units\"\n",
    "])\n",
    "\n",
    "# Convertir fecha a tipo datetime\n",
    "df_images[\"fecha_imagen\"] = pd.to_datetime(df_images[\"fecha_imagen\"], errors=\"coerce\")\n",
    "df_images.to_csv(\"Imagenes.csv\", index=False)\n",
    "\n",
    "print(f\"En total {len(df_images)} imágenes fueron cargadas correctamente.\")"
   ]
  },
  {
   "cell_type": "code",
   "execution_count": 20,
   "id": "0f17bb1a",
   "metadata": {},
   "outputs": [
    {
     "name": "stdout",
     "output_type": "stream",
     "text": [
      "Se tienen 298 imágenes con su registro.\n"
     ]
    }
   ],
   "source": [
    "df_images_sorted = df_images.sort_values([\"sujeto_id\", \"fecha_imagen\"])\n",
    "df_clinical_sorted = df_clinical.sort_values([\"PTID\", \"EXAMDATE\"])\n",
    "# Agrupar por sujeto\n",
    "grupos_img = df_images_sorted.groupby(\"sujeto_id\")\n",
    "grupos_clin = df_clinical_sorted.groupby(\"PTID\")\n",
    "\n",
    "# Lista para almacenar resultados\n",
    "asignaciones = []\n",
    "\n",
    "# Iterar por sujeto\n",
    "for sujeto in df_images_sorted[\"sujeto_id\"].unique():\n",
    "    imgs = grupos_img.get_group(sujeto).reset_index(drop=True)\n",
    "    clin = grupos_clin.get_group(sujeto).reset_index(drop=True)\n",
    "    \n",
    "    # Asegurar que tienen el mismo número de registros\n",
    "    n = min(len(imgs), len(clin))\n",
    "    \n",
    "    # Asignar VISCODE por posición\n",
    "    imgs = imgs.iloc[:n].copy()\n",
    "    clin = clin.iloc[:n].copy()\n",
    "    imgs[\"VISCODE\"] = clin[\"VISCODE\"]\n",
    "    \n",
    "    asignaciones.append(imgs)\n",
    "\n",
    "# Concatenar todo\n",
    "df = pd.concat(asignaciones, ignore_index=True)\n",
    "df = df.merge(\n",
    "    df_clinical,\n",
    "    left_on=[\"sujeto_id\", \"VISCODE\"],\n",
    "    right_on=[\"PTID\", \"VISCODE\"],\n",
    "    how=\"left\"  # Usamos left para conservar todas las imágenes\n",
    ")\n",
    "\n",
    "print(f\"Se tienen {df.shape[0]} imágenes con su registro.\")"
   ]
  },
  {
   "cell_type": "code",
   "execution_count": 21,
   "id": "589f2a0d",
   "metadata": {},
   "outputs": [
    {
     "name": "stdout",
     "output_type": "stream",
     "text": [
      "Total de pacientes 54\n",
      "Resumen de número de visitas por paciente:\n",
      "   Vistas  Pacientes\n",
      "0       2          2\n",
      "1       3          6\n",
      "2       4          7\n",
      "3       5         10\n",
      "4       6         13\n",
      "5       7         12\n",
      "6       8          3\n",
      "7      12          1\n"
     ]
    }
   ],
   "source": [
    "print(f\"Total de pacientes {df['sujeto_id'].nunique()}\")\n",
    "# Crear una tabla pivote donde las celdas indican si hay o no registro\n",
    "tabla_visitas = (\n",
    "    df\n",
    "    .assign(valor=\"O\")  # marcamos presencia\n",
    "    .pivot_table(index=\"sujeto_id\", columns=\"VISCODE\", values=\"valor\", aggfunc=\"first\", fill_value=\"X\")\n",
    "    .sort_index(axis=1)\n",
    ")\n",
    "tabla_visitas\n",
    "conteo_visitas = (tabla_visitas == \"O\").sum(axis=1)\n",
    "resumen_visitas = conteo_visitas.value_counts().sort_index()\n",
    "tabla_resumen = pd.DataFrame({\n",
    "    \"Vistas\": resumen_visitas.index,\n",
    "    \"Pacientes\": resumen_visitas.values\n",
    "})\n",
    "print(\"Resumen de número de visitas por paciente:\")\n",
    "print(tabla_resumen)\n"
   ]
  },
  {
   "cell_type": "code",
   "execution_count": 23,
   "id": "35f974b8",
   "metadata": {},
   "outputs": [],
   "source": [
    "df.to_csv('ADNI_Images.csv', index=False)"
   ]
  }
 ],
 "metadata": {
  "kernelspec": {
   "display_name": "MACHINE",
   "language": "python",
   "name": "python3"
  },
  "language_info": {
   "codemirror_mode": {
    "name": "ipython",
    "version": 3
   },
   "file_extension": ".py",
   "mimetype": "text/x-python",
   "name": "python",
   "nbconvert_exporter": "python",
   "pygments_lexer": "ipython3",
   "version": "3.10.18"
  }
 },
 "nbformat": 4,
 "nbformat_minor": 5
}
